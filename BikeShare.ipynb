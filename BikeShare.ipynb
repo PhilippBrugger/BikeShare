{
 "cells": [
  {
   "cell_type": "markdown",
   "metadata": {},
   "source": [
    "# BikeShare\n",
    "\n",
    "I am using a Jupyter Notebook here to work on this project and comment on the code in the sense of literate programming.\n",
    "\n",
    "First, I import relevant packages to work on the project."
   ]
  },
  {
   "cell_type": "code",
   "execution_count": 1,
   "metadata": {},
   "outputs": [],
   "source": [
    "import time\n",
    "import pandas as pd\n",
    "import numpy as np\n"
   ]
  },
  {
   "cell_type": "markdown",
   "metadata": {},
   "source": [
    "Next, I build the CITY DATA dictionary consisting of the data handed over in the three csv files."
   ]
  },
  {
   "cell_type": "code",
   "execution_count": 2,
   "metadata": {},
   "outputs": [],
   "source": [
    "CITY_DATA = { 'chicago': 'chicago.csv',\n",
    "              'new york city': 'new_york_city.csv',\n",
    "              'washington': 'washington.csv' }"
   ]
  },
  {
   "cell_type": "markdown",
   "metadata": {},
   "source": [
    "I check out the structure of the data, looking at the first 5 rows."
   ]
  },
  {
   "cell_type": "code",
   "execution_count": 3,
   "metadata": {},
   "outputs": [
    {
     "name": "stdout",
     "output_type": "stream",
     "text": [
      "   Unnamed: 0           Start Time             End Time  Trip Duration  \\\n",
      "0     1423854  2017-06-23 15:09:32  2017-06-23 15:14:53            321   \n",
      "1      955915  2017-05-25 18:19:03  2017-05-25 18:45:53           1610   \n",
      "2        9031  2017-01-04 08:27:49  2017-01-04 08:34:45            416   \n",
      "3      304487  2017-03-06 13:49:38  2017-03-06 13:55:28            350   \n",
      "4       45207  2017-01-17 14:53:07  2017-01-17 15:02:01            534   \n",
      "\n",
      "                   Start Station                   End Station   User Type  \\\n",
      "0           Wood St & Hubbard St       Damen Ave & Chicago Ave  Subscriber   \n",
      "1            Theater on the Lake  Sheffield Ave & Waveland Ave  Subscriber   \n",
      "2             May St & Taylor St           Wood St & Taylor St  Subscriber   \n",
      "3  Christiana Ave & Lawrence Ave  St. Louis Ave & Balmoral Ave  Subscriber   \n",
      "4         Clark St & Randolph St  Desplaines St & Jackson Blvd  Subscriber   \n",
      "\n",
      "   Gender  Birth Year  \n",
      "0    Male      1992.0  \n",
      "1  Female      1992.0  \n",
      "2    Male      1981.0  \n",
      "3    Male      1986.0  \n",
      "4    Male      1975.0  \n"
     ]
    }
   ],
   "source": [
    "df = pd.read_csv(\"chicago.csv\")\n",
    "print(df.head())"
   ]
  },
  {
   "cell_type": "markdown",
   "metadata": {},
   "source": [
    "The following function is asking the use to specify a city, month and day to analyze.\n",
    "It will return: \n",
    "        (str) city - name of the city to analyze\n",
    "        (str) month - name of the month to filter by, or \"all\" to apply no month filter\n",
    "        (str) day - name of the day of week to filter by, or \"all\" to apply no day filter.\n",
    "It also prompts the user to re-enter if the entry was not correct."
   ]
  },
  {
   "cell_type": "code",
   "execution_count": 4,
   "metadata": {},
   "outputs": [],
   "source": [
    "def get_filters():\n",
    "   \n",
    "    # TO DO: get user input for city (chicago, new york city, washington). HINT: Use a while loop to handle invalid inputs\n",
    "    city = input('What city data would you like to analyze? Enter \"chicago\", \"new york city\", \"washington\" or \"all\": ')\n",
    "    while city not in (\"chicago\", \"new york city\", \"washington\", \"all\"):\n",
    "        city = input('This is not a valid input. Please enter \"chicago\", \"new york city\", \"washington\" or \"all\": ')\n",
    "    else: \n",
    "        print('Thank You! We will analyze data for {} for you'.format(city)) \n",
    "        \n",
    "    # TO DO: get user input for month (all, january, february, ... , june)\n",
    "    month = input('What month would you like to analyze? Enter the name of the month or \"all\" for no month filter: ')\n",
    "    while month not in ('january', 'february', 'march', 'april', \n",
    "                        'may', 'june', 'july', 'august', 'september', 'october', 'november', 'december', 'all'):\n",
    "        month = input('This is not a valid input. Enter the name of the month or \"all\" for no month filter: ')\n",
    "    else: \n",
    "        print('Thank You! We will analyze data for {} for you'.format(month))\n",
    "    \n",
    "    # TO DO: get user input for day of week (all, monday, tuesday, ... sunday)\n",
    "    day = input('What day of the week would you like to analyze? Enter the name of the day or \"all\" for no day filter: ')\n",
    "    while day not in ('monday', 'tuesday', 'wednesday', 'thursday', 'friday', 'saturday', 'sunday', 'all'):\n",
    "        day = input('This is not a valid input. Enter the name of the month or \"all\" for no month filter: ')\n",
    "    else: \n",
    "        print('Thank You! We will analyze data for {} for you'.format(day))\n",
    "\n",
    "    print('-'*40)\n",
    "    return city, month, day\n",
    "\n",
    "\n",
    "\n",
    "\n"
   ]
  },
  {
   "cell_type": "markdown",
   "metadata": {},
   "source": [
    "Loading selected data and applying filters corresponding to input provided by user."
   ]
  },
  {
   "cell_type": "code",
   "execution_count": 5,
   "metadata": {},
   "outputs": [
    {
     "name": "stdout",
     "output_type": "stream",
     "text": [
      "What city data would you like to analyze? Enter \"chicago\", \"new york city\", \"washington\" or \"all\": new york city\n",
      "Thank You! We will analyze data for new york city for you\n",
      "What month would you like to analyze? Enter the name of the month or \"all\" for no month filter: january\n",
      "Thank You! We will analyze data for january for you\n",
      "What day of the week would you like to analyze? Enter the name of the day or \"all\" for no day filter: friday\n",
      "Thank You! We will analyze data for friday for you\n",
      "----------------------------------------\n"
     ]
    },
    {
     "data": {
      "text/html": [
       "<div>\n",
       "<style scoped>\n",
       "    .dataframe tbody tr th:only-of-type {\n",
       "        vertical-align: middle;\n",
       "    }\n",
       "\n",
       "    .dataframe tbody tr th {\n",
       "        vertical-align: top;\n",
       "    }\n",
       "\n",
       "    .dataframe thead th {\n",
       "        text-align: right;\n",
       "    }\n",
       "</style>\n",
       "<table border=\"1\" class=\"dataframe\">\n",
       "  <thead>\n",
       "    <tr style=\"text-align: right;\">\n",
       "      <th></th>\n",
       "      <th>Unnamed: 0</th>\n",
       "      <th>Start Time</th>\n",
       "      <th>End Time</th>\n",
       "      <th>Trip Duration</th>\n",
       "      <th>Start Station</th>\n",
       "      <th>End Station</th>\n",
       "      <th>User Type</th>\n",
       "      <th>Gender</th>\n",
       "      <th>Birth Year</th>\n",
       "      <th>month</th>\n",
       "      <th>day_of_week</th>\n",
       "    </tr>\n",
       "  </thead>\n",
       "  <tbody>\n",
       "    <tr>\n",
       "      <th>72</th>\n",
       "      <td>445709</td>\n",
       "      <td>2017-01-20 19:01:02</td>\n",
       "      <td>2017-01-20 19:06:32</td>\n",
       "      <td>330</td>\n",
       "      <td>Stanton St &amp; Chrystie St</td>\n",
       "      <td>MacDougal St &amp; Prince St</td>\n",
       "      <td>Subscriber</td>\n",
       "      <td>Male</td>\n",
       "      <td>1983.0</td>\n",
       "      <td>1</td>\n",
       "      <td>Friday</td>\n",
       "    </tr>\n",
       "    <tr>\n",
       "      <th>212</th>\n",
       "      <td>279381</td>\n",
       "      <td>2017-01-13 20:19:24</td>\n",
       "      <td>2017-01-13 20:28:35</td>\n",
       "      <td>551</td>\n",
       "      <td>W 87 St  &amp; Amsterdam Ave</td>\n",
       "      <td>11 Ave &amp; W 59 St</td>\n",
       "      <td>Subscriber</td>\n",
       "      <td>Male</td>\n",
       "      <td>1994.0</td>\n",
       "      <td>1</td>\n",
       "      <td>Friday</td>\n",
       "    </tr>\n",
       "    <tr>\n",
       "      <th>214</th>\n",
       "      <td>432007</td>\n",
       "      <td>2017-01-20 09:20:14</td>\n",
       "      <td>2017-01-20 09:27:36</td>\n",
       "      <td>441</td>\n",
       "      <td>W 39 St &amp; 9 Ave</td>\n",
       "      <td>Pershing Square South</td>\n",
       "      <td>Subscriber</td>\n",
       "      <td>Male</td>\n",
       "      <td>1980.0</td>\n",
       "      <td>1</td>\n",
       "      <td>Friday</td>\n",
       "    </tr>\n",
       "    <tr>\n",
       "      <th>274</th>\n",
       "      <td>252422</td>\n",
       "      <td>2017-01-13 08:06:10</td>\n",
       "      <td>2017-01-13 08:23:32</td>\n",
       "      <td>1041</td>\n",
       "      <td>Carmine St &amp; 6 Ave</td>\n",
       "      <td>Broadway &amp; E 22 St</td>\n",
       "      <td>Subscriber</td>\n",
       "      <td>Male</td>\n",
       "      <td>1979.0</td>\n",
       "      <td>1</td>\n",
       "      <td>Friday</td>\n",
       "    </tr>\n",
       "    <tr>\n",
       "      <th>290</th>\n",
       "      <td>261652</td>\n",
       "      <td>2017-01-13 11:48:49</td>\n",
       "      <td>2017-01-13 12:00:39</td>\n",
       "      <td>709</td>\n",
       "      <td>York St &amp; Jay St</td>\n",
       "      <td>Rivington St &amp; Chrystie St</td>\n",
       "      <td>Subscriber</td>\n",
       "      <td>Male</td>\n",
       "      <td>1968.0</td>\n",
       "      <td>1</td>\n",
       "      <td>Friday</td>\n",
       "    </tr>\n",
       "  </tbody>\n",
       "</table>\n",
       "</div>"
      ],
      "text/plain": [
       "     Unnamed: 0          Start Time             End Time  Trip Duration  \\\n",
       "72       445709 2017-01-20 19:01:02  2017-01-20 19:06:32            330   \n",
       "212      279381 2017-01-13 20:19:24  2017-01-13 20:28:35            551   \n",
       "214      432007 2017-01-20 09:20:14  2017-01-20 09:27:36            441   \n",
       "274      252422 2017-01-13 08:06:10  2017-01-13 08:23:32           1041   \n",
       "290      261652 2017-01-13 11:48:49  2017-01-13 12:00:39            709   \n",
       "\n",
       "                Start Station                 End Station   User Type Gender  \\\n",
       "72   Stanton St & Chrystie St    MacDougal St & Prince St  Subscriber   Male   \n",
       "212  W 87 St  & Amsterdam Ave            11 Ave & W 59 St  Subscriber   Male   \n",
       "214           W 39 St & 9 Ave       Pershing Square South  Subscriber   Male   \n",
       "274        Carmine St & 6 Ave          Broadway & E 22 St  Subscriber   Male   \n",
       "290          York St & Jay St  Rivington St & Chrystie St  Subscriber   Male   \n",
       "\n",
       "     Birth Year  month day_of_week  \n",
       "72       1983.0      1      Friday  \n",
       "212      1994.0      1      Friday  \n",
       "214      1980.0      1      Friday  \n",
       "274      1979.0      1      Friday  \n",
       "290      1968.0      1      Friday  "
      ]
     },
     "execution_count": 5,
     "metadata": {},
     "output_type": "execute_result"
    }
   ],
   "source": [
    "def load_data(city, month, day):\n",
    "    \"\"\"\n",
    "    Loads data for the specified city and filters by month and day if applicable.\n",
    "\n",
    "    Args:\n",
    "        (str) city - name of the city to analyze\n",
    "        (str) month - name of the month to filter by, or \"all\" to apply no month filter\n",
    "        (str) day - name of the day of week to filter by, or \"all\" to apply no day filter\n",
    "    Returns:\n",
    "        df - Pandas DataFrame containing city data filtered by month and day\n",
    "    \"\"\"\n",
    "    # load data file into a dataframe\n",
    "    df = pd.read_csv(CITY_DATA[city])\n",
    "    \n",
    "    # convert the Start Time column to datetime\n",
    "    df['Start Time'] = pd.to_datetime(df['Start Time'])\n",
    "    \n",
    "    # extract month and day of week from Start Time to create new columns\n",
    "    df['month'] = df['Start Time'].dt.month\n",
    "    df['day_of_week'] = df['Start Time'].dt.weekday_name\n",
    "    \n",
    "    # filter by month if applicable\n",
    "    if month != 'all':\n",
    "        # use the index of the months list to get the corresponding int\n",
    "        months = ['january', 'february', 'march', 'april', 'may', 'june', 'july', 'august', 'september', 'october', 'november', 'december']\n",
    "        month = months.index(month) + 1\n",
    "        \n",
    "        # filter by month to create the new dataframe\n",
    "        df = df[df['month'] == month]\n",
    "\n",
    "    # filter by day of week if applicable\n",
    "    if day != 'all':\n",
    "        # filter by day of week to create the new dataframe\n",
    "        df = df[df['day_of_week'] == day.title()]\n",
    "    \n",
    "    return df\n",
    "\n",
    "city, month, day = get_filters()\n",
    "load_data(city, month, day).head()\n"
   ]
  },
  {
   "cell_type": "code",
   "execution_count": null,
   "metadata": {},
   "outputs": [],
   "source": []
  },
  {
   "cell_type": "code",
   "execution_count": 6,
   "metadata": {},
   "outputs": [
    {
     "name": "stdout",
     "output_type": "stream",
     "text": [
      "\n",
      "Calculating The Most Frequent Times of Travel...\n",
      "\n",
      "Most Popular Start Month: 1\n",
      "Most Popular Start Day: 4\n",
      "Most Popular Start Hour: 8\n",
      "----------------------------------------\n"
     ]
    }
   ],
   "source": [
    "def time_stats(df):\n",
    "    \"\"\"Displays statistics on the most frequent times of travel.\"\"\"\n",
    "\n",
    "    print('\\nCalculating The Most Frequent Times of Travel...\\n')\n",
    "    df = load_data(city, month, day)\n",
    "    # ToDo: here I will have to adjust for month (etc.) names vs. indices...!\n",
    "    # TO DO: display the most common month: The month as January=1, December=12\n",
    "    df['Start Time'] = pd.to_datetime(df['Start Time'])\n",
    "    df['month'] = df['Start Time'].dt.month\n",
    "    popular_month = df['month'].mode()[0]\n",
    "    print('Most Popular Start Month:', popular_month)\n",
    "\n",
    "    # TO DO: display the most common day of week\n",
    "    df['Start Time'] = pd.to_datetime(df['Start Time'])\n",
    "    df['day'] = df['Start Time'].dt.dayofweek\n",
    "    popular_day = df['day'].mode()[0]\n",
    "    print('Most Popular Start Day:', popular_day)\n",
    "\n",
    "    # TO DO: display the most common start hour\n",
    "    df['Start Time'] = pd.to_datetime(df['Start Time'])\n",
    "    df['hour'] = df['Start Time'].dt.hour\n",
    "    popular_hour = df['hour'].mode()[0]\n",
    "    print('Most Popular Start Hour:', popular_hour)\n",
    "    \n",
    "    return time_stats \n",
    "   \n",
    "\n",
    "time_stats(df)\n",
    "print('-'*40)\n",
    "\n",
    "\n"
   ]
  },
  {
   "cell_type": "code",
   "execution_count": 7,
   "metadata": {},
   "outputs": [
    {
     "name": "stdout",
     "output_type": "stream",
     "text": [
      "\n",
      "Calculating The Most Popular Stations and Trip...\n",
      "\n",
      "Most popular start station Pershing Square North\n",
      "Most popular end station Pershing Square North\n",
      "Most popular combination Start Station    End Station    \n",
      "E 25 St & 1 Ave  1 Ave & E 44 St    5\n",
      "dtype: int64\n",
      "----------------------------------------\n"
     ]
    }
   ],
   "source": [
    "def station_stats(df):\n",
    "    \"\"\"Displays statistics on the most popular stations and trip.\"\"\"\n",
    "    df = load_data(city, month, day)\n",
    "    print('\\nCalculating The Most Popular Stations and Trip...\\n')\n",
    "    start_time = time.time()\n",
    "\n",
    "    # TO DO: display most commonly used start station\n",
    "    popular_ss = df['Start Station'].mode()[0]\n",
    "    print('Most popular start station', popular_ss)\n",
    "\n",
    "    # TO DO: display most commonly used end station\n",
    "    popular_es = df['End Station'].mode()[0]\n",
    "    print('Most popular end station', popular_es)\n",
    "\n",
    "    # TO DO: display most frequent combination of start station and end station trip\n",
    "    popular_trip = df.groupby(['Start Station', 'End Station']).size().nlargest(1)\n",
    "    print('Most popular combination', popular_trip)\n",
    "    \n",
    "    return station_stats\n",
    "\n",
    "station_stats(df)\n",
    "print('-'*40)\n",
    "\n"
   ]
  },
  {
   "cell_type": "code",
   "execution_count": 8,
   "metadata": {},
   "outputs": [
    {
     "name": "stdout",
     "output_type": "stream",
     "text": [
      "Total travel time:  3612092\n",
      "Average travel time:  700.0178294573643\n",
      "----------------------------------------\n"
     ]
    }
   ],
   "source": [
    "def trip_duration_stats(df):\n",
    "    \"\"\"Displays statistics on the total and average trip duration.\"\"\"\n",
    "    df = load_data(city, month, day)\n",
    "    # TO DO: display total travel time\n",
    "    total_duration = df['Trip Duration'].sum()\n",
    "    print('Total travel time: ', total_duration)\n",
    "    \n",
    "    # TO DO: display mean travel time\n",
    "    average_duration = df['Trip Duration'].mean()\n",
    "    print('Average travel time: ', average_duration)\n",
    "    \n",
    "    return trip_duration_stats\n",
    "\n",
    "trip_duration_stats(df) \n",
    "print('-'*40)\n",
    "\n"
   ]
  },
  {
   "cell_type": "code",
   "execution_count": 9,
   "metadata": {},
   "outputs": [
    {
     "name": "stdout",
     "output_type": "stream",
     "text": [
      "Count of user type:              Unnamed: 0  Start Time  End Time  Trip Duration  Start Station  \\\n",
      "User Type                                                                    \n",
      "Customer           114         114       114            114            114   \n",
      "Subscriber        5021        5021      5021           5021           5021   \n",
      "\n",
      "            End Station  Gender  Birth Year  month  day_of_week  \n",
      "User Type                                                        \n",
      "Customer            114       1           1    114          114  \n",
      "Subscriber         5021    4964        4980   5021         5021  \n",
      "Count of gender:          Unnamed: 0  Start Time  End Time  Trip Duration  Start Station  \\\n",
      "Gender                                                                   \n",
      "Female        1094        1094      1094           1094           1094   \n",
      "Male          3896        3896      3896           3896           3896   \n",
      "\n",
      "        End Station  User Type  Birth Year  month  day_of_week  \n",
      "Gender                                                          \n",
      "Female         1094       1082        1094   1094         1094  \n",
      "Male           3896       3883        3896   3896         3896  \n",
      "Earliest birth year:  1885.0\n",
      "Most recent birth year:  2000.0\n",
      "Most common birth year:  1985.0\n",
      "----------------------------------------\n"
     ]
    }
   ],
   "source": [
    "def user_stats(df):\n",
    "    \"\"\"Displays statistics on bikeshare users.\"\"\"\n",
    "    df = load_data(city, month, day)\n",
    "    # TO DO: Display counts of user types\n",
    "    count_user_type = df.groupby(['User Type']).count()\n",
    "    print('Count of user type: ', count_user_type)\n",
    "    \n",
    "    # TO DO: Display counts of gender\n",
    "    count_gender = df.groupby(['Gender']).count()\n",
    "    print('Count of gender: ', count_gender)\n",
    "    \n",
    "    # TO DO: Display earliest, most recent, and most common year of birth\n",
    "    earliest = df['Birth Year'].min()\n",
    "    print('Earliest birth year: ', earliest)\n",
    "    \n",
    "    recent = df['Birth Year'].max()\n",
    "    print('Most recent birth year: ', recent)\n",
    "    \n",
    "    common = df['Birth Year'].mode()[0]\n",
    "    print('Most common birth year: ', common)\n",
    "\n",
    "    return user_stats\n",
    "\n",
    "user_stats(df)\n",
    "print('-'*40)\n"
   ]
  },
  {
   "cell_type": "code",
   "execution_count": null,
   "metadata": {},
   "outputs": [],
   "source": [
    "def main():\n",
    "    while True:\n",
    "        city, month, day = get_filters()\n",
    "        df = load_data(city, month, day)\n",
    "\n",
    "        time_stats(df)\n",
    "        station_stats(df)\n",
    "        trip_duration_stats(df)\n",
    "        user_stats(df)\n",
    "\n",
    "        restart = input('\\nWould you like to restart? Enter yes or no.\\n')\n",
    "        if restart.lower() != 'yes':\n",
    "            break\n",
    "\n",
    "\n",
    "if __name__ == \"__main__\":\n",
    "\tmain()\n"
   ]
  },
  {
   "cell_type": "code",
   "execution_count": null,
   "metadata": {},
   "outputs": [],
   "source": []
  }
 ],
 "metadata": {
  "kernelspec": {
   "display_name": "Python [default]",
   "language": "python",
   "name": "python3"
  },
  "language_info": {
   "codemirror_mode": {
    "name": "ipython",
    "version": 3
   },
   "file_extension": ".py",
   "mimetype": "text/x-python",
   "name": "python",
   "nbconvert_exporter": "python",
   "pygments_lexer": "ipython3",
   "version": "3.6.6"
  }
 },
 "nbformat": 4,
 "nbformat_minor": 2
}
